{
 "cells": [
  {
   "cell_type": "code",
   "execution_count": 1,
   "id": "19e14784",
   "metadata": {},
   "outputs": [
    {
     "data": {
      "application/vnd.jupyter.widget-view+json": {
       "model_id": "6ce3456983de4a87bda3d2a433184787",
       "version_major": 2,
       "version_minor": 0
      },
      "text/plain": [
       "VBox()"
      ]
     },
     "metadata": {},
     "output_type": "display_data"
    },
    {
     "name": "stdout",
     "output_type": "stream",
     "text": [
      "Starting Spark application\n"
     ]
    },
    {
     "data": {
      "text/html": [
       "<table>\n",
       "<tr><th>ID</th><th>YARN Application ID</th><th>Kind</th><th>State</th><th>Spark UI</th><th>Driver log</th><th>Current session?</th></tr><tr><td>0</td><td>application_1637885162105_0001</td><td>pyspark</td><td>idle</td><td><a target=\"_blank\" href=\"http://ip-172-31-67-146.ec2.internal:20888/proxy/application_1637885162105_0001/\">Link</a></td><td><a target=\"_blank\" href=\"http://ip-172-31-71-213.ec2.internal:8042/node/containerlogs/container_1637885162105_0001_01_000001/livy\">Link</a></td><td>✔</td></tr></table>"
      ],
      "text/plain": [
       "<IPython.core.display.HTML object>"
      ]
     },
     "metadata": {},
     "output_type": "display_data"
    },
    {
     "data": {
      "application/vnd.jupyter.widget-view+json": {
       "model_id": "",
       "version_major": 2,
       "version_minor": 0
      },
      "text/plain": [
       "FloatProgress(value=0.0, bar_style='info', description='Progress:', layout=Layout(height='25px', width='50%'),…"
      ]
     },
     "metadata": {},
     "output_type": "display_data"
    },
    {
     "name": "stdout",
     "output_type": "stream",
     "text": [
      "SparkSession available as 'spark'.\n"
     ]
    },
    {
     "data": {
      "application/vnd.jupyter.widget-view+json": {
       "model_id": "",
       "version_major": 2,
       "version_minor": 0
      },
      "text/plain": [
       "FloatProgress(value=0.0, bar_style='info', description='Progress:', layout=Layout(height='25px', width='50%'),…"
      ]
     },
     "metadata": {},
     "output_type": "display_data"
    }
   ],
   "source": [
    "from pyspark.sql import functions as F"
   ]
  },
  {
   "cell_type": "code",
   "execution_count": 2,
   "id": "03f3c438",
   "metadata": {},
   "outputs": [
    {
     "data": {
      "application/vnd.jupyter.widget-view+json": {
       "model_id": "41433e0fe0dc4abbade672b0134bd300",
       "version_major": 2,
       "version_minor": 0
      },
      "text/plain": [
       "VBox()"
      ]
     },
     "metadata": {},
     "output_type": "display_data"
    },
    {
     "data": {
      "application/vnd.jupyter.widget-view+json": {
       "model_id": "",
       "version_major": 2,
       "version_minor": 0
      },
      "text/plain": [
       "FloatProgress(value=0.0, bar_style='info', description='Progress:', layout=Layout(height='25px', width='50%'),…"
      ]
     },
     "metadata": {},
     "output_type": "display_data"
    },
    {
     "name": "stdout",
     "output_type": "stream",
     "text": [
      "<pyspark.sql.session.SparkSession object at 0x7fd8fdc38c50>"
     ]
    }
   ],
   "source": [
    "spark"
   ]
  },
  {
   "cell_type": "markdown",
   "id": "b6fa478a",
   "metadata": {},
   "source": [
    "# Exercises"
   ]
  },
  {
   "cell_type": "markdown",
   "id": "08a04a55",
   "metadata": {},
   "source": [
    "## process_log_data(spark)"
   ]
  },
  {
   "cell_type": "code",
   "execution_count": 3,
   "id": "1ac9e75b",
   "metadata": {},
   "outputs": [
    {
     "data": {
      "application/vnd.jupyter.widget-view+json": {
       "model_id": "5313e5e21c8849fcabdd9bed47851ae2",
       "version_major": 2,
       "version_minor": 0
      },
      "text/plain": [
       "VBox()"
      ]
     },
     "metadata": {},
     "output_type": "display_data"
    },
    {
     "data": {
      "application/vnd.jupyter.widget-view+json": {
       "model_id": "",
       "version_major": 2,
       "version_minor": 0
      },
      "text/plain": [
       "FloatProgress(value=0.0, bar_style='info', description='Progress:', layout=Layout(height='25px', width='50%'),…"
      ]
     },
     "metadata": {},
     "output_type": "display_data"
    }
   ],
   "source": [
    "# get filepath to log data file\n",
    "# log_data = 's3a://udacity-dend/log_json_path.json'\n",
    "# log_data = 's3://udacity-dend/log_data/2018/11/2018-11-12-events.json' \n",
    "log_data = 's3://udacity-dend/log_data/*/*/*.json'\n",
    "\n",
    "# read log data file\n",
    "df = spark.read.json(log_data)\n",
    "# df.persist()\n",
    "\n",
    "# df.head(10)"
   ]
  },
  {
   "cell_type": "code",
   "execution_count": 4,
   "id": "7f7c6bb2",
   "metadata": {},
   "outputs": [
    {
     "data": {
      "application/vnd.jupyter.widget-view+json": {
       "model_id": "a5b8a4c80a18497ab4f4293f6385bcdc",
       "version_major": 2,
       "version_minor": 0
      },
      "text/plain": [
       "VBox()"
      ]
     },
     "metadata": {},
     "output_type": "display_data"
    },
    {
     "data": {
      "application/vnd.jupyter.widget-view+json": {
       "model_id": "",
       "version_major": 2,
       "version_minor": 0
      },
      "text/plain": [
       "FloatProgress(value=0.0, bar_style='info', description='Progress:', layout=Layout(height='25px', width='50%'),…"
      ]
     },
     "metadata": {},
     "output_type": "display_data"
    },
    {
     "name": "stdout",
     "output_type": "stream",
     "text": [
      "root\n",
      " |-- artist: string (nullable = true)\n",
      " |-- auth: string (nullable = true)\n",
      " |-- firstName: string (nullable = true)\n",
      " |-- gender: string (nullable = true)\n",
      " |-- itemInSession: long (nullable = true)\n",
      " |-- lastName: string (nullable = true)\n",
      " |-- length: double (nullable = true)\n",
      " |-- level: string (nullable = true)\n",
      " |-- location: string (nullable = true)\n",
      " |-- method: string (nullable = true)\n",
      " |-- page: string (nullable = true)\n",
      " |-- registration: double (nullable = true)\n",
      " |-- sessionId: long (nullable = true)\n",
      " |-- song: string (nullable = true)\n",
      " |-- status: long (nullable = true)\n",
      " |-- ts: long (nullable = true)\n",
      " |-- userAgent: string (nullable = true)\n",
      " |-- userId: string (nullable = true)"
     ]
    }
   ],
   "source": [
    "df.printSchema()"
   ]
  },
  {
   "cell_type": "code",
   "execution_count": 5,
   "id": "05b4864f",
   "metadata": {},
   "outputs": [
    {
     "data": {
      "application/vnd.jupyter.widget-view+json": {
       "model_id": "1f6c417bd8764548a109b71f1d08555e",
       "version_major": 2,
       "version_minor": 0
      },
      "text/plain": [
       "VBox()"
      ]
     },
     "metadata": {},
     "output_type": "display_data"
    },
    {
     "data": {
      "application/vnd.jupyter.widget-view+json": {
       "model_id": "",
       "version_major": 2,
       "version_minor": 0
      },
      "text/plain": [
       "FloatProgress(value=0.0, bar_style='info', description='Progress:', layout=Layout(height='25px', width='50%'),…"
      ]
     },
     "metadata": {},
     "output_type": "display_data"
    },
    {
     "name": "stdout",
     "output_type": "stream",
     "text": [
      "-RECORD 0--------------------------------------------------------------------------------------------------------------------------------------------------\n",
      " artist        | Harmonia                                                                                                                                  \n",
      " auth          | Logged In                                                                                                                                 \n",
      " firstName     | Ryan                                                                                                                                      \n",
      " gender        | M                                                                                                                                         \n",
      " itemInSession | 0                                                                                                                                         \n",
      " lastName      | Smith                                                                                                                                     \n",
      " length        | 655.77751                                                                                                                                 \n",
      " level         | free                                                                                                                                      \n",
      " location      | San Jose-Sunnyvale-Santa Clara, CA                                                                                                        \n",
      " method        | PUT                                                                                                                                       \n",
      " page          | NextSong                                                                                                                                  \n",
      " registration  | 1.541016707796E12                                                                                                                         \n",
      " sessionId     | 583                                                                                                                                       \n",
      " song          | Sehr kosmisch                                                                                                                             \n",
      " status        | 200                                                                                                                                       \n",
      " ts            | 1542241826796                                                                                                                             \n",
      " userAgent     | \"Mozilla/5.0 (X11; Linux x86_64) AppleWebKit/537.36 (KHTML, like Gecko) Ubuntu Chromium/36.0.1985.125 Chrome/36.0.1985.125 Safari/537.36\" \n",
      " userId        | 26                                                                                                                                        \n",
      "only showing top 1 row"
     ]
    }
   ],
   "source": [
    "df.show(1, False, vertical=True)"
   ]
  },
  {
   "cell_type": "code",
   "execution_count": 6,
   "id": "1eefb9df",
   "metadata": {},
   "outputs": [
    {
     "data": {
      "application/vnd.jupyter.widget-view+json": {
       "model_id": "b91fc696b9f54f109160f7726cf1fd3a",
       "version_major": 2,
       "version_minor": 0
      },
      "text/plain": [
       "VBox()"
      ]
     },
     "metadata": {},
     "output_type": "display_data"
    },
    {
     "data": {
      "application/vnd.jupyter.widget-view+json": {
       "model_id": "",
       "version_major": 2,
       "version_minor": 0
      },
      "text/plain": [
       "FloatProgress(value=0.0, bar_style='info', description='Progress:', layout=Layout(height='25px', width='50%'),…"
      ]
     },
     "metadata": {},
     "output_type": "display_data"
    },
    {
     "name": "stdout",
     "output_type": "stream",
     "text": [
      "8056"
     ]
    }
   ],
   "source": [
    "df.count()"
   ]
  },
  {
   "cell_type": "code",
   "execution_count": 7,
   "id": "8874f610",
   "metadata": {},
   "outputs": [
    {
     "data": {
      "application/vnd.jupyter.widget-view+json": {
       "model_id": "eef9dd1c929c457b982dd6cd58fc7838",
       "version_major": 2,
       "version_minor": 0
      },
      "text/plain": [
       "VBox()"
      ]
     },
     "metadata": {},
     "output_type": "display_data"
    },
    {
     "data": {
      "application/vnd.jupyter.widget-view+json": {
       "model_id": "",
       "version_major": 2,
       "version_minor": 0
      },
      "text/plain": [
       "FloatProgress(value=0.0, bar_style='info', description='Progress:', layout=Layout(height='25px', width='50%'),…"
      ]
     },
     "metadata": {},
     "output_type": "display_data"
    }
   ],
   "source": [
    "from pyspark.sql.functions import col"
   ]
  },
  {
   "cell_type": "code",
   "execution_count": 8,
   "id": "fde6e94b",
   "metadata": {},
   "outputs": [
    {
     "data": {
      "application/vnd.jupyter.widget-view+json": {
       "model_id": "3cb3cd2f967b4f2e8e39d26dbaed348e",
       "version_major": 2,
       "version_minor": 0
      },
      "text/plain": [
       "VBox()"
      ]
     },
     "metadata": {},
     "output_type": "display_data"
    },
    {
     "data": {
      "application/vnd.jupyter.widget-view+json": {
       "model_id": "",
       "version_major": 2,
       "version_minor": 0
      },
      "text/plain": [
       "FloatProgress(value=0.0, bar_style='info', description='Progress:', layout=Layout(height='25px', width='50%'),…"
      ]
     },
     "metadata": {},
     "output_type": "display_data"
    },
    {
     "name": "stdout",
     "output_type": "stream",
     "text": [
      "6820"
     ]
    }
   ],
   "source": [
    "df_only_with_songs = df.filter(col(\"song\").isNotNull())\n",
    "\n",
    "df_only_with_songs.count()"
   ]
  },
  {
   "cell_type": "code",
   "execution_count": 9,
   "id": "86d020f1",
   "metadata": {},
   "outputs": [
    {
     "data": {
      "application/vnd.jupyter.widget-view+json": {
       "model_id": "384eec32497444c6ae4d9ed1af6ce0a1",
       "version_major": 2,
       "version_minor": 0
      },
      "text/plain": [
       "VBox()"
      ]
     },
     "metadata": {},
     "output_type": "display_data"
    },
    {
     "data": {
      "application/vnd.jupyter.widget-view+json": {
       "model_id": "",
       "version_major": 2,
       "version_minor": 0
      },
      "text/plain": [
       "FloatProgress(value=0.0, bar_style='info', description='Progress:', layout=Layout(height='25px', width='50%'),…"
      ]
     },
     "metadata": {},
     "output_type": "display_data"
    },
    {
     "name": "stdout",
     "output_type": "stream",
     "text": [
      "+--------------------+-----+\n",
      "|              artist|count|\n",
      "+--------------------+-----+\n",
      "|Huey Lewis & The ...|    1|\n",
      "|       Frankie Valli|    1|\n",
      "|           12 Stones|    3|\n",
      "|        Billy Squier|    1|\n",
      "|              Arkona|    1|\n",
      "|       Leonard Cohen|    7|\n",
      "|Forever The Sicke...|    1|\n",
      "|       Arthur Conley|    1|\n",
      "|Johnny Cash with ...|    1|\n",
      "|      Ismael Serrano|    1|\n",
      "|                P!nk|    3|\n",
      "|          Chet Baker|    2|\n",
      "|              Prohom|    1|\n",
      "|   Madeleine Peyroux|    3|\n",
      "|Jason Mraz & Colb...|    6|\n",
      "|        Julie London|    1|\n",
      "|             Incubus|   10|\n",
      "|      Frankie Avalon|    1|\n",
      "|           Relient K|    4|\n",
      "|            Caifanes|    3|\n",
      "+--------------------+-----+\n",
      "only showing top 20 rows"
     ]
    }
   ],
   "source": [
    "df_only_with_songs.groupBy([\"artist\"]).count().show()"
   ]
  },
  {
   "cell_type": "code",
   "execution_count": 10,
   "id": "996a59b1",
   "metadata": {},
   "outputs": [
    {
     "data": {
      "application/vnd.jupyter.widget-view+json": {
       "model_id": "d6fe8c8d7af64522a3b10e45875ac5aa",
       "version_major": 2,
       "version_minor": 0
      },
      "text/plain": [
       "VBox()"
      ]
     },
     "metadata": {},
     "output_type": "display_data"
    },
    {
     "data": {
      "application/vnd.jupyter.widget-view+json": {
       "model_id": "",
       "version_major": 2,
       "version_minor": 0
      },
      "text/plain": [
       "FloatProgress(value=0.0, bar_style='info', description='Progress:', layout=Layout(height='25px', width='50%'),…"
      ]
     },
     "metadata": {},
     "output_type": "display_data"
    }
   ],
   "source": [
    "from pyspark.sql.functions import desc"
   ]
  },
  {
   "cell_type": "code",
   "execution_count": 11,
   "id": "758eb6bf",
   "metadata": {},
   "outputs": [
    {
     "data": {
      "application/vnd.jupyter.widget-view+json": {
       "model_id": "2d8955d720034a25b4b44b3cf2179e1a",
       "version_major": 2,
       "version_minor": 0
      },
      "text/plain": [
       "VBox()"
      ]
     },
     "metadata": {},
     "output_type": "display_data"
    },
    {
     "data": {
      "application/vnd.jupyter.widget-view+json": {
       "model_id": "",
       "version_major": 2,
       "version_minor": 0
      },
      "text/plain": [
       "FloatProgress(value=0.0, bar_style='info', description='Progress:', layout=Layout(height='25px', width='50%'),…"
      ]
     },
     "metadata": {},
     "output_type": "display_data"
    },
    {
     "name": "stdout",
     "output_type": "stream",
     "text": [
      "+--------------------+-----+\n",
      "|              artist|count|\n",
      "+--------------------+-----+\n",
      "|            Coldplay|   58|\n",
      "|       Kings Of Leon|   55|\n",
      "|       Dwight Yoakam|   38|\n",
      "|      The Black Keys|   36|\n",
      "|Florence + The Ma...|   35|\n",
      "|        Jack Johnson|   35|\n",
      "|                Muse|   35|\n",
      "|            BjÃÂ¶rk|   33|\n",
      "|         The Killers|   31|\n",
      "|          John Mayer|   31|\n",
      "|           Radiohead|   30|\n",
      "|     Alliance Ethnik|   30|\n",
      "|         OneRepublic|   30|\n",
      "|       Justin Bieber|   29|\n",
      "|         Linkin Park|   28|\n",
      "|           Metallica|   27|\n",
      "|              Eminem|   26|\n",
      "|               Train|   25|\n",
      "|          BeyoncÃÂ©|   23|\n",
      "|        Taylor Swift|   23|\n",
      "+--------------------+-----+\n",
      "only showing top 20 rows"
     ]
    }
   ],
   "source": [
    "df_only_with_songs.groupBy([\"artist\"]).count().orderBy('count', ascending=False).show()"
   ]
  },
  {
   "cell_type": "code",
   "execution_count": 12,
   "id": "178bda54",
   "metadata": {},
   "outputs": [
    {
     "data": {
      "application/vnd.jupyter.widget-view+json": {
       "model_id": "3cbe270e659446cab1663778d48cc77f",
       "version_major": 2,
       "version_minor": 0
      },
      "text/plain": [
       "VBox()"
      ]
     },
     "metadata": {},
     "output_type": "display_data"
    },
    {
     "data": {
      "application/vnd.jupyter.widget-view+json": {
       "model_id": "",
       "version_major": 2,
       "version_minor": 0
      },
      "text/plain": [
       "FloatProgress(value=0.0, bar_style='info', description='Progress:', layout=Layout(height='25px', width='50%'),…"
      ]
     },
     "metadata": {},
     "output_type": "display_data"
    },
    {
     "name": "stdout",
     "output_type": "stream",
     "text": [
      "+--------------------+-----+\n",
      "|              artist|count|\n",
      "+--------------------+-----+\n",
      "|                null| 1236|\n",
      "|            Coldplay|   58|\n",
      "|       Kings Of Leon|   55|\n",
      "|       Dwight Yoakam|   38|\n",
      "|      The Black Keys|   36|\n",
      "|        Jack Johnson|   35|\n",
      "|                Muse|   35|\n",
      "|Florence + The Ma...|   35|\n",
      "|            BjÃÂ¶rk|   33|\n",
      "|          John Mayer|   31|\n",
      "|         The Killers|   31|\n",
      "|     Alliance Ethnik|   30|\n",
      "|           Radiohead|   30|\n",
      "|         OneRepublic|   30|\n",
      "|       Justin Bieber|   29|\n",
      "|         Linkin Park|   28|\n",
      "|           Metallica|   27|\n",
      "|              Eminem|   26|\n",
      "|               Train|   25|\n",
      "|        Taylor Swift|   23|\n",
      "+--------------------+-----+\n",
      "only showing top 20 rows"
     ]
    }
   ],
   "source": [
    "df.groupBy([\"artist\"]).count().orderBy('count', ascending=False).show()"
   ]
  },
  {
   "cell_type": "code",
   "execution_count": 13,
   "id": "de358cb5",
   "metadata": {},
   "outputs": [
    {
     "data": {
      "application/vnd.jupyter.widget-view+json": {
       "model_id": "c84eca3103134473b45e79c4f8c3ae62",
       "version_major": 2,
       "version_minor": 0
      },
      "text/plain": [
       "VBox()"
      ]
     },
     "metadata": {},
     "output_type": "display_data"
    },
    {
     "data": {
      "application/vnd.jupyter.widget-view+json": {
       "model_id": "",
       "version_major": 2,
       "version_minor": 0
      },
      "text/plain": [
       "FloatProgress(value=0.0, bar_style='info', description='Progress:', layout=Layout(height='25px', width='50%'),…"
      ]
     },
     "metadata": {},
     "output_type": "display_data"
    },
    {
     "name": "stdout",
     "output_type": "stream",
     "text": [
      "6820"
     ]
    }
   ],
   "source": [
    "df_only_with_songs.count()"
   ]
  },
  {
   "cell_type": "code",
   "execution_count": 14,
   "id": "075e97da",
   "metadata": {},
   "outputs": [
    {
     "data": {
      "application/vnd.jupyter.widget-view+json": {
       "model_id": "0825b121a63c43e0a7856bc6f37539c9",
       "version_major": 2,
       "version_minor": 0
      },
      "text/plain": [
       "VBox()"
      ]
     },
     "metadata": {},
     "output_type": "display_data"
    },
    {
     "data": {
      "application/vnd.jupyter.widget-view+json": {
       "model_id": "",
       "version_major": 2,
       "version_minor": 0
      },
      "text/plain": [
       "FloatProgress(value=0.0, bar_style='info', description='Progress:', layout=Layout(height='25px', width='50%'),…"
      ]
     },
     "metadata": {},
     "output_type": "display_data"
    },
    {
     "name": "stdout",
     "output_type": "stream",
     "text": [
      "6820"
     ]
    }
   ],
   "source": [
    "df_only_with_songs = df_only_with_songs.drop_duplicates()\n",
    "df_only_with_songs.count()"
   ]
  },
  {
   "cell_type": "code",
   "execution_count": 15,
   "id": "285a2b20",
   "metadata": {},
   "outputs": [
    {
     "data": {
      "application/vnd.jupyter.widget-view+json": {
       "model_id": "d7bd007c8d5746ba925ca040960089fc",
       "version_major": 2,
       "version_minor": 0
      },
      "text/plain": [
       "VBox()"
      ]
     },
     "metadata": {},
     "output_type": "display_data"
    },
    {
     "data": {
      "application/vnd.jupyter.widget-view+json": {
       "model_id": "",
       "version_major": 2,
       "version_minor": 0
      },
      "text/plain": [
       "FloatProgress(value=0.0, bar_style='info', description='Progress:', layout=Layout(height='25px', width='50%'),…"
      ]
     },
     "metadata": {},
     "output_type": "display_data"
    },
    {
     "name": "stdout",
     "output_type": "stream",
     "text": [
      "+--------+-----+\n",
      "|    page|count|\n",
      "+--------+-----+\n",
      "|NextSong| 6820|\n",
      "+--------+-----+"
     ]
    }
   ],
   "source": [
    "df_only_with_songs.groupBy([\"page\"]).count().orderBy('count', ascending=False).show()"
   ]
  },
  {
   "cell_type": "code",
   "execution_count": 16,
   "id": "ce56f80a",
   "metadata": {},
   "outputs": [
    {
     "data": {
      "application/vnd.jupyter.widget-view+json": {
       "model_id": "fbaf43fe02324a9e9bc0184c401cccaa",
       "version_major": 2,
       "version_minor": 0
      },
      "text/plain": [
       "VBox()"
      ]
     },
     "metadata": {},
     "output_type": "display_data"
    },
    {
     "data": {
      "application/vnd.jupyter.widget-view+json": {
       "model_id": "",
       "version_major": 2,
       "version_minor": 0
      },
      "text/plain": [
       "FloatProgress(value=0.0, bar_style='info', description='Progress:', layout=Layout(height='25px', width='50%'),…"
      ]
     },
     "metadata": {},
     "output_type": "display_data"
    },
    {
     "name": "stdout",
     "output_type": "stream",
     "text": [
      "+----------------+-----+\n",
      "|            page|count|\n",
      "+----------------+-----+\n",
      "|        NextSong| 6820|\n",
      "|            Home|  806|\n",
      "|           Login|   92|\n",
      "|          Logout|   90|\n",
      "|       Downgrade|   60|\n",
      "|        Settings|   56|\n",
      "|            Help|   47|\n",
      "|           About|   36|\n",
      "|         Upgrade|   21|\n",
      "|   Save Settings|   10|\n",
      "|           Error|    9|\n",
      "|  Submit Upgrade|    8|\n",
      "|Submit Downgrade|    1|\n",
      "+----------------+-----+"
     ]
    }
   ],
   "source": [
    "df.groupBy([\"page\"]).count().orderBy('count', ascending=False).show()"
   ]
  },
  {
   "cell_type": "code",
   "execution_count": 17,
   "id": "0d271c77",
   "metadata": {},
   "outputs": [
    {
     "data": {
      "application/vnd.jupyter.widget-view+json": {
       "model_id": "754456e6aa824606a7c12a5f45ce7090",
       "version_major": 2,
       "version_minor": 0
      },
      "text/plain": [
       "VBox()"
      ]
     },
     "metadata": {},
     "output_type": "display_data"
    },
    {
     "data": {
      "application/vnd.jupyter.widget-view+json": {
       "model_id": "",
       "version_major": 2,
       "version_minor": 0
      },
      "text/plain": [
       "FloatProgress(value=0.0, bar_style='info', description='Progress:', layout=Layout(height='25px', width='50%'),…"
      ]
     },
     "metadata": {},
     "output_type": "display_data"
    },
    {
     "name": "stdout",
     "output_type": "stream",
     "text": [
      "+------+----------+--------+-----+------+\n",
      "|userId| firstName|lastName|level|gender|\n",
      "+------+----------+--------+-----+------+\n",
      "|    15|      Lily|    Koch| paid|     F|\n",
      "|    49|     Chloe|  Cuevas| paid|     F|\n",
      "|    44|    Aleena|   Kirby| paid|     F|\n",
      "|    80|     Tegan|  Levine| paid|     F|\n",
      "|    80|     Tegan|  Levine| paid|     F|\n",
      "|    16|     Rylan|  George| paid|     M|\n",
      "|    16|     Rylan|  George| paid|     M|\n",
      "|    80|     Tegan|  Levine| paid|     F|\n",
      "|    82|     Avery|Martinez| paid|     F|\n",
      "|    14|  Theodore|  Harris| free|     M|\n",
      "|    58|     Emily|  Benson| paid|     F|\n",
      "|   101|    Jayden|     Fox| free|     M|\n",
      "|    15|      Lily|    Koch| paid|     F|\n",
      "|    30|     Avery| Watkins| paid|     F|\n",
      "|    61|    Samuel|Gonzalez| free|     M|\n",
      "|    15|      Lily|    Koch| paid|     F|\n",
      "|    29|Jacqueline|   Lynch| paid|     F|\n",
      "|    76|    Jayden|   Duffy| free|     F|\n",
      "|    24|     Layla| Griffin| paid|     F|\n",
      "|    97|      Kate| Harrell| paid|     F|\n",
      "+------+----------+--------+-----+------+\n",
      "only showing top 20 rows"
     ]
    }
   ],
   "source": [
    "# extract columns for users table\n",
    "users_table = df_only_with_songs['userId', 'firstName', 'lastName', 'level', 'gender']\n",
    "\n",
    "users_table.show()"
   ]
  },
  {
   "cell_type": "code",
   "execution_count": 18,
   "id": "dd65d33c",
   "metadata": {},
   "outputs": [
    {
     "data": {
      "application/vnd.jupyter.widget-view+json": {
       "model_id": "84cfa8a887334ab9b0c4249475f14c6b",
       "version_major": 2,
       "version_minor": 0
      },
      "text/plain": [
       "VBox()"
      ]
     },
     "metadata": {},
     "output_type": "display_data"
    },
    {
     "data": {
      "application/vnd.jupyter.widget-view+json": {
       "model_id": "",
       "version_major": 2,
       "version_minor": 0
      },
      "text/plain": [
       "FloatProgress(value=0.0, bar_style='info', description='Progress:', layout=Layout(height='25px', width='50%'),…"
      ]
     },
     "metadata": {},
     "output_type": "display_data"
    },
    {
     "name": "stdout",
     "output_type": "stream",
     "text": [
      "6820"
     ]
    }
   ],
   "source": [
    "users_table.count()"
   ]
  },
  {
   "cell_type": "code",
   "execution_count": 19,
   "id": "058574d0",
   "metadata": {},
   "outputs": [
    {
     "data": {
      "application/vnd.jupyter.widget-view+json": {
       "model_id": "b9c38f31f7ef4978ba2c8ecbe2327d2e",
       "version_major": 2,
       "version_minor": 0
      },
      "text/plain": [
       "VBox()"
      ]
     },
     "metadata": {},
     "output_type": "display_data"
    },
    {
     "data": {
      "application/vnd.jupyter.widget-view+json": {
       "model_id": "",
       "version_major": 2,
       "version_minor": 0
      },
      "text/plain": [
       "FloatProgress(value=0.0, bar_style='info', description='Progress:', layout=Layout(height='25px', width='50%'),…"
      ]
     },
     "metadata": {},
     "output_type": "display_data"
    },
    {
     "name": "stdout",
     "output_type": "stream",
     "text": [
      "104"
     ]
    }
   ],
   "source": [
    "users_table.drop_duplicates().count()"
   ]
  },
  {
   "cell_type": "code",
   "execution_count": 20,
   "id": "97a65fa8",
   "metadata": {},
   "outputs": [
    {
     "data": {
      "application/vnd.jupyter.widget-view+json": {
       "model_id": "4d7972414e9c4e80a106d3725779e672",
       "version_major": 2,
       "version_minor": 0
      },
      "text/plain": [
       "VBox()"
      ]
     },
     "metadata": {},
     "output_type": "display_data"
    },
    {
     "data": {
      "application/vnd.jupyter.widget-view+json": {
       "model_id": "",
       "version_major": 2,
       "version_minor": 0
      },
      "text/plain": [
       "FloatProgress(value=0.0, bar_style='info', description='Progress:', layout=Layout(height='25px', width='50%'),…"
      ]
     },
     "metadata": {},
     "output_type": "display_data"
    },
    {
     "name": "stdout",
     "output_type": "stream",
     "text": [
      "104"
     ]
    }
   ],
   "source": [
    "user_table = users_table.drop_duplicates()\n",
    "\n",
    "user_table.count()"
   ]
  },
  {
   "cell_type": "markdown",
   "id": "2bb1303f",
   "metadata": {},
   "source": [
    "## Time table"
   ]
  },
  {
   "cell_type": "code",
   "execution_count": 24,
   "id": "4bca0810",
   "metadata": {},
   "outputs": [
    {
     "data": {
      "application/vnd.jupyter.widget-view+json": {
       "model_id": "a497f823fa8646df8a2fd284976ad222",
       "version_major": 2,
       "version_minor": 0
      },
      "text/plain": [
       "VBox()"
      ]
     },
     "metadata": {},
     "output_type": "display_data"
    },
    {
     "data": {
      "application/vnd.jupyter.widget-view+json": {
       "model_id": "",
       "version_major": 2,
       "version_minor": 0
      },
      "text/plain": [
       "FloatProgress(value=0.0, bar_style='info', description='Progress:', layout=Layout(height='25px', width='50%'),…"
      ]
     },
     "metadata": {},
     "output_type": "display_data"
    }
   ],
   "source": [
    "from pyspark.sql.functions import udf"
   ]
  },
  {
   "cell_type": "code",
   "execution_count": 35,
   "id": "c8dabe7e",
   "metadata": {},
   "outputs": [
    {
     "data": {
      "application/vnd.jupyter.widget-view+json": {
       "model_id": "5f4185ceb76a4def90ea60edb61c623f",
       "version_major": 2,
       "version_minor": 0
      },
      "text/plain": [
       "VBox()"
      ]
     },
     "metadata": {},
     "output_type": "display_data"
    },
    {
     "data": {
      "application/vnd.jupyter.widget-view+json": {
       "model_id": "",
       "version_major": 2,
       "version_minor": 0
      },
      "text/plain": [
       "FloatProgress(value=0.0, bar_style='info', description='Progress:', layout=Layout(height='25px', width='50%'),…"
      ]
     },
     "metadata": {},
     "output_type": "display_data"
    }
   ],
   "source": [
    "from pyspark.sql.functions import year, month, dayofmonth, hour,  dayofweek, weekofyear, date_format\n",
    "from pyspark.sql.types import *\n",
    "from datetime import datetime"
   ]
  },
  {
   "cell_type": "code",
   "execution_count": 26,
   "id": "fb59a93f",
   "metadata": {},
   "outputs": [
    {
     "data": {
      "application/vnd.jupyter.widget-view+json": {
       "model_id": "700b5d865a0940439139573e2714bf48",
       "version_major": 2,
       "version_minor": 0
      },
      "text/plain": [
       "VBox()"
      ]
     },
     "metadata": {},
     "output_type": "display_data"
    },
    {
     "data": {
      "application/vnd.jupyter.widget-view+json": {
       "model_id": "",
       "version_major": 2,
       "version_minor": 0
      },
      "text/plain": [
       "FloatProgress(value=0.0, bar_style='info', description='Progress:', layout=Layout(height='25px', width='50%'),…"
      ]
     },
     "metadata": {},
     "output_type": "display_data"
    }
   ],
   "source": [
    "# create timestamp column from original timestamp column\n",
    "\n",
    "get_timestamp = udf(lambda x: datetime.utcfromtimestamp(int(x) / 1000), TimestampType())"
   ]
  },
  {
   "cell_type": "code",
   "execution_count": 27,
   "id": "7cc163c4",
   "metadata": {},
   "outputs": [
    {
     "data": {
      "application/vnd.jupyter.widget-view+json": {
       "model_id": "657678f59f5146bd92143fb022d00f3b",
       "version_major": 2,
       "version_minor": 0
      },
      "text/plain": [
       "VBox()"
      ]
     },
     "metadata": {},
     "output_type": "display_data"
    },
    {
     "data": {
      "application/vnd.jupyter.widget-view+json": {
       "model_id": "",
       "version_major": 2,
       "version_minor": 0
      },
      "text/plain": [
       "FloatProgress(value=0.0, bar_style='info', description='Progress:', layout=Layout(height='25px', width='50%'),…"
      ]
     },
     "metadata": {},
     "output_type": "display_data"
    }
   ],
   "source": [
    "df_ts_test = df.withColumn('start_time', get_timestamp('ts'))"
   ]
  },
  {
   "cell_type": "code",
   "execution_count": 28,
   "id": "899eaa7d",
   "metadata": {},
   "outputs": [
    {
     "data": {
      "application/vnd.jupyter.widget-view+json": {
       "model_id": "04a923e204ed4bdc88c5850521232f4a",
       "version_major": 2,
       "version_minor": 0
      },
      "text/plain": [
       "VBox()"
      ]
     },
     "metadata": {},
     "output_type": "display_data"
    },
    {
     "data": {
      "application/vnd.jupyter.widget-view+json": {
       "model_id": "",
       "version_major": 2,
       "version_minor": 0
      },
      "text/plain": [
       "FloatProgress(value=0.0, bar_style='info', description='Progress:', layout=Layout(height='25px', width='50%'),…"
      ]
     },
     "metadata": {},
     "output_type": "display_data"
    },
    {
     "name": "stdout",
     "output_type": "stream",
     "text": [
      "root\n",
      " |-- artist: string (nullable = true)\n",
      " |-- auth: string (nullable = true)\n",
      " |-- firstName: string (nullable = true)\n",
      " |-- gender: string (nullable = true)\n",
      " |-- itemInSession: long (nullable = true)\n",
      " |-- lastName: string (nullable = true)\n",
      " |-- length: double (nullable = true)\n",
      " |-- level: string (nullable = true)\n",
      " |-- location: string (nullable = true)\n",
      " |-- method: string (nullable = true)\n",
      " |-- page: string (nullable = true)\n",
      " |-- registration: double (nullable = true)\n",
      " |-- sessionId: long (nullable = true)\n",
      " |-- song: string (nullable = true)\n",
      " |-- status: long (nullable = true)\n",
      " |-- ts: long (nullable = true)\n",
      " |-- userAgent: string (nullable = true)\n",
      " |-- userId: string (nullable = true)\n",
      " |-- start_time: timestamp (nullable = true)"
     ]
    }
   ],
   "source": [
    "df_ts_test.printSchema()"
   ]
  },
  {
   "cell_type": "code",
   "execution_count": 29,
   "id": "6c1aab03",
   "metadata": {},
   "outputs": [
    {
     "data": {
      "application/vnd.jupyter.widget-view+json": {
       "model_id": "c153e698760a4c16af03d93542257993",
       "version_major": 2,
       "version_minor": 0
      },
      "text/plain": [
       "VBox()"
      ]
     },
     "metadata": {},
     "output_type": "display_data"
    },
    {
     "data": {
      "application/vnd.jupyter.widget-view+json": {
       "model_id": "",
       "version_major": 2,
       "version_minor": 0
      },
      "text/plain": [
       "FloatProgress(value=0.0, bar_style='info', description='Progress:', layout=Layout(height='25px', width='50%'),…"
      ]
     },
     "metadata": {},
     "output_type": "display_data"
    },
    {
     "name": "stdout",
     "output_type": "stream",
     "text": [
      "-RECORD 0--------------------------------------------------------------------------------------------------------------------------------------------------\n",
      " artist        | Harmonia                                                                                                                                  \n",
      " auth          | Logged In                                                                                                                                 \n",
      " firstName     | Ryan                                                                                                                                      \n",
      " gender        | M                                                                                                                                         \n",
      " itemInSession | 0                                                                                                                                         \n",
      " lastName      | Smith                                                                                                                                     \n",
      " length        | 655.77751                                                                                                                                 \n",
      " level         | free                                                                                                                                      \n",
      " location      | San Jose-Sunnyvale-Santa Clara, CA                                                                                                        \n",
      " method        | PUT                                                                                                                                       \n",
      " page          | NextSong                                                                                                                                  \n",
      " registration  | 1.541016707796E12                                                                                                                         \n",
      " sessionId     | 583                                                                                                                                       \n",
      " song          | Sehr kosmisch                                                                                                                             \n",
      " status        | 200                                                                                                                                       \n",
      " ts            | 1542241826796                                                                                                                             \n",
      " userAgent     | \"Mozilla/5.0 (X11; Linux x86_64) AppleWebKit/537.36 (KHTML, like Gecko) Ubuntu Chromium/36.0.1985.125 Chrome/36.0.1985.125 Safari/537.36\" \n",
      " userId        | 26                                                                                                                                        \n",
      " start_time    | 2018-11-15 00:30:26.796                                                                                                                   \n",
      "only showing top 1 row"
     ]
    }
   ],
   "source": [
    "df_ts_test.show(1, False, vertical=True)"
   ]
  },
  {
   "cell_type": "code",
   "execution_count": 30,
   "id": "758239c2",
   "metadata": {},
   "outputs": [
    {
     "data": {
      "application/vnd.jupyter.widget-view+json": {
       "model_id": "67fc26dd607147218e08ed156ec94921",
       "version_major": 2,
       "version_minor": 0
      },
      "text/plain": [
       "VBox()"
      ]
     },
     "metadata": {},
     "output_type": "display_data"
    },
    {
     "data": {
      "application/vnd.jupyter.widget-view+json": {
       "model_id": "",
       "version_major": 2,
       "version_minor": 0
      },
      "text/plain": [
       "FloatProgress(value=0.0, bar_style='info', description='Progress:', layout=Layout(height='25px', width='50%'),…"
      ]
     },
     "metadata": {},
     "output_type": "display_data"
    }
   ],
   "source": [
    "df = df_ts_test"
   ]
  },
  {
   "cell_type": "code",
   "execution_count": 31,
   "id": "988bdc55",
   "metadata": {},
   "outputs": [
    {
     "data": {
      "application/vnd.jupyter.widget-view+json": {
       "model_id": "3b9a2be5950642459eeeebb2e6f14f8d",
       "version_major": 2,
       "version_minor": 0
      },
      "text/plain": [
       "VBox()"
      ]
     },
     "metadata": {},
     "output_type": "display_data"
    },
    {
     "data": {
      "application/vnd.jupyter.widget-view+json": {
       "model_id": "",
       "version_major": 2,
       "version_minor": 0
      },
      "text/plain": [
       "FloatProgress(value=0.0, bar_style='info', description='Progress:', layout=Layout(height='25px', width='50%'),…"
      ]
     },
     "metadata": {},
     "output_type": "display_data"
    },
    {
     "name": "stdout",
     "output_type": "stream",
     "text": [
      "-RECORD 0--------------------------------------------------------------------------------------------------------------------------------------------------\n",
      " artist        | Harmonia                                                                                                                                  \n",
      " auth          | Logged In                                                                                                                                 \n",
      " firstName     | Ryan                                                                                                                                      \n",
      " gender        | M                                                                                                                                         \n",
      " itemInSession | 0                                                                                                                                         \n",
      " lastName      | Smith                                                                                                                                     \n",
      " length        | 655.77751                                                                                                                                 \n",
      " level         | free                                                                                                                                      \n",
      " location      | San Jose-Sunnyvale-Santa Clara, CA                                                                                                        \n",
      " method        | PUT                                                                                                                                       \n",
      " page          | NextSong                                                                                                                                  \n",
      " registration  | 1.541016707796E12                                                                                                                         \n",
      " sessionId     | 583                                                                                                                                       \n",
      " song          | Sehr kosmisch                                                                                                                             \n",
      " status        | 200                                                                                                                                       \n",
      " ts            | 1542241826796                                                                                                                             \n",
      " userAgent     | \"Mozilla/5.0 (X11; Linux x86_64) AppleWebKit/537.36 (KHTML, like Gecko) Ubuntu Chromium/36.0.1985.125 Chrome/36.0.1985.125 Safari/537.36\" \n",
      " userId        | 26                                                                                                                                        \n",
      " start_time    | 2018-11-15 00:30:26.796                                                                                                                   \n",
      "only showing top 1 row"
     ]
    }
   ],
   "source": [
    "df.show(1, False, vertical=True)"
   ]
  },
  {
   "cell_type": "code",
   "execution_count": 32,
   "id": "aa0247a7",
   "metadata": {},
   "outputs": [
    {
     "data": {
      "application/vnd.jupyter.widget-view+json": {
       "model_id": "5080616991c448e8ae7b3ff9a306d765",
       "version_major": 2,
       "version_minor": 0
      },
      "text/plain": [
       "VBox()"
      ]
     },
     "metadata": {},
     "output_type": "display_data"
    },
    {
     "data": {
      "application/vnd.jupyter.widget-view+json": {
       "model_id": "",
       "version_major": 2,
       "version_minor": 0
      },
      "text/plain": [
       "FloatProgress(value=0.0, bar_style='info', description='Progress:', layout=Layout(height='25px', width='50%'),…"
      ]
     },
     "metadata": {},
     "output_type": "display_data"
    },
    {
     "name": "stdout",
     "output_type": "stream",
     "text": [
      "-RECORD 0-----------------------------\n",
      " start_time | 2018-11-15 00:30:26.796 \n",
      "-RECORD 1-----------------------------\n",
      " start_time | 2018-11-15 00:41:21.796 \n",
      "-RECORD 2-----------------------------\n",
      " start_time | 2018-11-15 00:45:41.796 \n",
      "-RECORD 3-----------------------------\n",
      " start_time | 2018-11-15 01:57:51.796 \n",
      "-RECORD 4-----------------------------\n",
      " start_time | 2018-11-15 03:29:37.796 \n",
      "only showing top 5 rows"
     ]
    }
   ],
   "source": [
    "time_table = df.select(['start_time', 'ts'])\n",
    "\n",
    "\n",
    "time_table.show(5, False, vertical=True)"
   ]
  },
  {
   "cell_type": "code",
   "execution_count": 36,
   "id": "2cbf25dd",
   "metadata": {},
   "outputs": [
    {
     "data": {
      "application/vnd.jupyter.widget-view+json": {
       "model_id": "7137a92bd49047deac8689cb5b2cd419",
       "version_major": 2,
       "version_minor": 0
      },
      "text/plain": [
       "VBox()"
      ]
     },
     "metadata": {},
     "output_type": "display_data"
    },
    {
     "data": {
      "application/vnd.jupyter.widget-view+json": {
       "model_id": "",
       "version_major": 2,
       "version_minor": 0
      },
      "text/plain": [
       "FloatProgress(value=0.0, bar_style='info', description='Progress:', layout=Layout(height='25px', width='50%'),…"
      ]
     },
     "metadata": {},
     "output_type": "display_data"
    },
    {
     "name": "stdout",
     "output_type": "stream",
     "text": [
      "-RECORD 0-----------------------------\n",
      " start_time | 2018-11-15 00:30:26.796 \n",
      " hour       | 0                       \n",
      " day        | 15                      \n",
      " week       | 46                      \n",
      " month      | 11                      \n",
      " year       | 2018                    \n",
      " weekday    | 5                       \n",
      "only showing top 1 row"
     ]
    }
   ],
   "source": [
    "time_table = time_table.withColumn(\"hour\", hour(\"start_time\")) \\\n",
    "        .withColumn(\"day\", dayofmonth(\"start_time\")) \\\n",
    "        .withColumn(\"week\", weekofyear(\"start_time\")) \\\n",
    "        .withColumn(\"month\", month(\"start_time\")) \\\n",
    "        .withColumn(\"year\", year(\"start_time\")) \\\n",
    "        .withColumn(\"weekday\", dayofweek(\"start_time\"))\n",
    "\n",
    "time_table.show(1, False, vertical=True)"
   ]
  },
  {
   "cell_type": "markdown",
   "id": "b8645e4d",
   "metadata": {},
   "source": [
    "# process_song_data()"
   ]
  },
  {
   "cell_type": "code",
   "execution_count": 38,
   "id": "b29069ae",
   "metadata": {},
   "outputs": [
    {
     "data": {
      "application/vnd.jupyter.widget-view+json": {
       "model_id": "5680edd054f64998904075a33ef949d1",
       "version_major": 2,
       "version_minor": 0
      },
      "text/plain": [
       "VBox()"
      ]
     },
     "metadata": {},
     "output_type": "display_data"
    },
    {
     "data": {
      "application/vnd.jupyter.widget-view+json": {
       "model_id": "",
       "version_major": 2,
       "version_minor": 0
      },
      "text/plain": [
       "FloatProgress(value=0.0, bar_style='info', description='Progress:', layout=Layout(height='25px', width='50%'),…"
      ]
     },
     "metadata": {},
     "output_type": "display_data"
    }
   ],
   "source": [
    "# get filepath to song data file\n",
    "song_data = 's3://udacity-dend/song_data/*/*/*/*.json'"
   ]
  },
  {
   "cell_type": "code",
   "execution_count": 39,
   "id": "5c5fe183",
   "metadata": {},
   "outputs": [
    {
     "data": {
      "application/vnd.jupyter.widget-view+json": {
       "model_id": "b8a52e2f86214bb883575d962b3fbe17",
       "version_major": 2,
       "version_minor": 0
      },
      "text/plain": [
       "VBox()"
      ]
     },
     "metadata": {},
     "output_type": "display_data"
    },
    {
     "data": {
      "application/vnd.jupyter.widget-view+json": {
       "model_id": "",
       "version_major": 2,
       "version_minor": 0
      },
      "text/plain": [
       "FloatProgress(value=0.0, bar_style='info', description='Progress:', layout=Layout(height='25px', width='50%'),…"
      ]
     },
     "metadata": {},
     "output_type": "display_data"
    }
   ],
   "source": [
    "# read song data file\n",
    "df_song = spark.read.json(song_data)"
   ]
  },
  {
   "cell_type": "code",
   "execution_count": 40,
   "id": "e8480553",
   "metadata": {},
   "outputs": [
    {
     "data": {
      "application/vnd.jupyter.widget-view+json": {
       "model_id": "0e47df0b633d4de8b36353e3f428b0ab",
       "version_major": 2,
       "version_minor": 0
      },
      "text/plain": [
       "VBox()"
      ]
     },
     "metadata": {},
     "output_type": "display_data"
    },
    {
     "data": {
      "application/vnd.jupyter.widget-view+json": {
       "model_id": "",
       "version_major": 2,
       "version_minor": 0
      },
      "text/plain": [
       "FloatProgress(value=0.0, bar_style='info', description='Progress:', layout=Layout(height='25px', width='50%'),…"
      ]
     },
     "metadata": {},
     "output_type": "display_data"
    },
    {
     "name": "stdout",
     "output_type": "stream",
     "text": [
      "-RECORD 0--------------------------------------------------------------------------------------------------------------------------------------------------------------------------------------------\n",
      " artist_id        | AR4T2IF1187B9ADBB7                                                                                                                                                               \n",
      " artist_latitude  | 63.96027                                                                                                                                                                         \n",
      " artist_location  | <a href=\"http://billyidol.net\" onmousedown='UntrustedLink.bootstrap($(this), \"fc44f8f60d13ab68c56b3c6709c6d670\", event)' target=\"_blank\" rel=\"nofollow\">http://billyidol.net</a> \n",
      " artist_longitude | 10.22442                                                                                                                                                                         \n",
      " artist_name      | Billy Idol                                                                                                                                                                       \n",
      " duration         | 233.22077                                                                                                                                                                        \n",
      " num_songs        | 1                                                                                                                                                                                \n",
      " song_id          | SOVIYJY12AF72A4B00                                                                                                                                                               \n",
      " title            | The Dead Next Door (Digitally Remastered 99)                                                                                                                                     \n",
      " year             | 1983                                                                                                                                                                             \n",
      "only showing top 1 row"
     ]
    }
   ],
   "source": [
    "df_song.show(1, False, vertical=True)"
   ]
  },
  {
   "cell_type": "code",
   "execution_count": 130,
   "id": "40be62dc",
   "metadata": {},
   "outputs": [
    {
     "data": {
      "application/vnd.jupyter.widget-view+json": {
       "model_id": "81585b15a080457ba82ea563866460e2",
       "version_major": 2,
       "version_minor": 0
      },
      "text/plain": [
       "VBox()"
      ]
     },
     "metadata": {},
     "output_type": "display_data"
    },
    {
     "data": {
      "application/vnd.jupyter.widget-view+json": {
       "model_id": "",
       "version_major": 2,
       "version_minor": 0
      },
      "text/plain": [
       "FloatProgress(value=0.0, bar_style='info', description='Progress:', layout=Layout(height='25px', width='50%'),…"
      ]
     },
     "metadata": {},
     "output_type": "display_data"
    },
    {
     "name": "stdout",
     "output_type": "stream",
     "text": [
      "14896"
     ]
    }
   ],
   "source": [
    "df_song.count()"
   ]
  },
  {
   "cell_type": "code",
   "execution_count": 41,
   "id": "6717d97a",
   "metadata": {},
   "outputs": [
    {
     "data": {
      "application/vnd.jupyter.widget-view+json": {
       "model_id": "ab7da6b8cc3f4ddfb01dc5330ed16397",
       "version_major": 2,
       "version_minor": 0
      },
      "text/plain": [
       "VBox()"
      ]
     },
     "metadata": {},
     "output_type": "display_data"
    },
    {
     "data": {
      "application/vnd.jupyter.widget-view+json": {
       "model_id": "",
       "version_major": 2,
       "version_minor": 0
      },
      "text/plain": [
       "FloatProgress(value=0.0, bar_style='info', description='Progress:', layout=Layout(height='25px', width='50%'),…"
      ]
     },
     "metadata": {},
     "output_type": "display_data"
    },
    {
     "name": "stdout",
     "output_type": "stream",
     "text": [
      "-RECORD 0----------------------------------------------------------------------------------------\n",
      " song_id   | SOCHPTV12A6BD53113                                                                  \n",
      " title     | Die Kunst der Fuge_ BWV 1080 (2007 Digital Remaster): Contrapunctus XVII - Inversus \n",
      " artist_id | ARN8NCB1187FB49652                                                                  \n",
      " year      | 0                                                                                   \n",
      " duration  | 172.38159                                                                           \n",
      "only showing top 1 row"
     ]
    }
   ],
   "source": [
    "# extract columns to create songs table\n",
    "songs_table = df_song['song_id', 'title', 'artist_id', 'year', 'duration'].drop_duplicates()\n",
    "\n",
    "songs_table.show(1, False, vertical=True)"
   ]
  },
  {
   "cell_type": "code",
   "execution_count": 42,
   "id": "abcb5859",
   "metadata": {},
   "outputs": [
    {
     "data": {
      "application/vnd.jupyter.widget-view+json": {
       "model_id": "25dbed8bcbb140008414b93458de1a1c",
       "version_major": 2,
       "version_minor": 0
      },
      "text/plain": [
       "VBox()"
      ]
     },
     "metadata": {},
     "output_type": "display_data"
    },
    {
     "data": {
      "application/vnd.jupyter.widget-view+json": {
       "model_id": "",
       "version_major": 2,
       "version_minor": 0
      },
      "text/plain": [
       "FloatProgress(value=0.0, bar_style='info', description='Progress:', layout=Layout(height='25px', width='50%'),…"
      ]
     },
     "metadata": {},
     "output_type": "display_data"
    },
    {
     "name": "stdout",
     "output_type": "stream",
     "text": [
      "-RECORD 0------------------------------------\n",
      " artist_id        | ARAILTA11F4C840A06       \n",
      " artist_name      | Endellion String Quartet \n",
      " artist_location  |                          \n",
      " artist_latitude  | null                     \n",
      " artist_longitude | null                     \n",
      "only showing top 1 row"
     ]
    }
   ],
   "source": [
    "# extract columns to create artists table\n",
    "artists_table = df_song['artist_id', 'artist_name', 'artist_location', 'artist_latitude', 'artist_longitude'].drop_duplicates()\n",
    "\n",
    "artists_table.show(1, False, vertical=True)"
   ]
  },
  {
   "cell_type": "markdown",
   "id": "d9dcd67e",
   "metadata": {},
   "source": [
    "## Save tables in S3 as parquet files"
   ]
  },
  {
   "cell_type": "code",
   "execution_count": 22,
   "id": "940cb5c7",
   "metadata": {},
   "outputs": [
    {
     "data": {
      "application/vnd.jupyter.widget-view+json": {
       "model_id": "15cf803efc0b424ca54d17ac3ac12498",
       "version_major": 2,
       "version_minor": 0
      },
      "text/plain": [
       "VBox()"
      ]
     },
     "metadata": {},
     "output_type": "display_data"
    },
    {
     "data": {
      "application/vnd.jupyter.widget-view+json": {
       "model_id": "",
       "version_major": 2,
       "version_minor": 0
      },
      "text/plain": [
       "FloatProgress(value=0.0, bar_style='info', description='Progress:', layout=Layout(height='25px', width='50%'),…"
      ]
     },
     "metadata": {},
     "output_type": "display_data"
    }
   ],
   "source": [
    "output_data = \"s3a://fina-udacity-sparkify-data/\""
   ]
  },
  {
   "cell_type": "code",
   "execution_count": 134,
   "id": "f57adc0f",
   "metadata": {},
   "outputs": [
    {
     "data": {
      "application/vnd.jupyter.widget-view+json": {
       "model_id": "751e100c91fd4f0d83c4f473647743fc",
       "version_major": 2,
       "version_minor": 0
      },
      "text/plain": [
       "VBox()"
      ]
     },
     "metadata": {},
     "output_type": "display_data"
    },
    {
     "data": {
      "application/vnd.jupyter.widget-view+json": {
       "model_id": "65a6e24e26c147b990092e44ca755be5",
       "version_major": 2,
       "version_minor": 0
      },
      "text/plain": [
       "FloatProgress(value=0.0, bar_style='info', description='Progress:', layout=Layout(height='25px', width='50%'),…"
      ]
     },
     "metadata": {},
     "output_type": "display_data"
    },
    {
     "name": "stderr",
     "output_type": "stream",
     "text": [
      "An error was encountered:\n",
      "Invalid status code '400' from https://172.31.74.156:18888/sessions/0/statements/134 with error payload: {\"msg\":\"requirement failed: Session isn't active.\"}\n"
     ]
    }
   ],
   "source": [
    "# write songs table to parquet files partitioned by year and artist\n",
    "songs_table.write.parquet('{}songs.parquet'.format(output_data), mode='overwrite', partitionBy=['year', 'artist_id'])"
   ]
  },
  {
   "cell_type": "code",
   "execution_count": null,
   "id": "54bc58ec",
   "metadata": {},
   "outputs": [
    {
     "data": {
      "application/vnd.jupyter.widget-view+json": {
       "model_id": "46b2ce00232e463990b78e3315c07985",
       "version_major": 2,
       "version_minor": 0
      },
      "text/plain": [
       "VBox()"
      ]
     },
     "metadata": {},
     "output_type": "display_data"
    },
    {
     "data": {
      "application/vnd.jupyter.widget-view+json": {
       "model_id": "c807fbc68b0c4272aaac1fa72c41e29f",
       "version_major": 2,
       "version_minor": 0
      },
      "text/plain": [
       "FloatProgress(value=0.0, bar_style='info', description='Progress:', layout=Layout(height='25px', width='50%'),…"
      ]
     },
     "metadata": {},
     "output_type": "display_data"
    }
   ],
   "source": [
    "# write artists table to parquet files\n",
    "artists_table.write.parquet('{}artists.parquet'.format(output_data), mode='overwrite')"
   ]
  },
  {
   "cell_type": "code",
   "execution_count": 23,
   "id": "f8b26fc4",
   "metadata": {},
   "outputs": [
    {
     "data": {
      "application/vnd.jupyter.widget-view+json": {
       "model_id": "a8100e4f26174257bd2ee82fd8b64de4",
       "version_major": 2,
       "version_minor": 0
      },
      "text/plain": [
       "VBox()"
      ]
     },
     "metadata": {},
     "output_type": "display_data"
    },
    {
     "data": {
      "application/vnd.jupyter.widget-view+json": {
       "model_id": "",
       "version_major": 2,
       "version_minor": 0
      },
      "text/plain": [
       "FloatProgress(value=0.0, bar_style='info', description='Progress:', layout=Layout(height='25px', width='50%'),…"
      ]
     },
     "metadata": {},
     "output_type": "display_data"
    }
   ],
   "source": [
    "# write users table to parquet files\n",
    "user_table.write.parquet('{}users.parquet'.format(output_data), mode='overwrite')"
   ]
  },
  {
   "cell_type": "code",
   "execution_count": 37,
   "id": "07beb783",
   "metadata": {},
   "outputs": [
    {
     "data": {
      "application/vnd.jupyter.widget-view+json": {
       "model_id": "957c09108e434c909ad6be54e686e86a",
       "version_major": 2,
       "version_minor": 0
      },
      "text/plain": [
       "VBox()"
      ]
     },
     "metadata": {},
     "output_type": "display_data"
    },
    {
     "data": {
      "application/vnd.jupyter.widget-view+json": {
       "model_id": "",
       "version_major": 2,
       "version_minor": 0
      },
      "text/plain": [
       "FloatProgress(value=0.0, bar_style='info', description='Progress:', layout=Layout(height='25px', width='50%'),…"
      ]
     },
     "metadata": {},
     "output_type": "display_data"
    }
   ],
   "source": [
    "# write time table to parquet files partitioned by year and month\n",
    "time_table.write.parquet('{}time.parquet'.format(output_data), mode='overwrite', partitionBy=['year', 'month'])"
   ]
  },
  {
   "cell_type": "markdown",
   "id": "7308786f",
   "metadata": {},
   "source": [
    "# Create Songplay table and save it as parquet file in S3"
   ]
  },
  {
   "cell_type": "code",
   "execution_count": null,
   "id": "ec97b27d",
   "metadata": {},
   "outputs": [],
   "source": [
    "# song_df = spark.read.parquet('{}songs.parquet'.format(output_data))"
   ]
  },
  {
   "cell_type": "code",
   "execution_count": null,
   "id": "80d448f8",
   "metadata": {},
   "outputs": [],
   "source": [
    "log_data = 's3://udacity-dend/log_data/*/*/*.json'\n",
    "\n",
    "# read log data file\n",
    "log_df = spark.read.json(log_data)\n",
    "\n",
    "log_df.show(1, False, vertical=True)"
   ]
  },
  {
   "cell_type": "code",
   "execution_count": null,
   "id": "7120c844",
   "metadata": {},
   "outputs": [],
   "source": [
    "log_df.createOrReplaceTempView(\"log_data_view\")"
   ]
  },
  {
   "cell_type": "code",
   "execution_count": null,
   "id": "8784d3b7",
   "metadata": {},
   "outputs": [],
   "source": [
    "# read in song data to use for songplays table\n",
    "song_df = spark.read.parquet('{}songs.parquet'.format(output_data))\n",
    "song_df.createOrReplaceTempView(\"song_data_view\")"
   ]
  },
  {
   "cell_type": "code",
   "execution_count": null,
   "id": "8156b645",
   "metadata": {},
   "outputs": [],
   "source": [
    "# read in time table data to be able to map ts to start_time\n",
    "time_df = spark.read.parquet('{}time.parquet'.format(output_data))\n",
    "time_df.createOrReplaceTempView(\"time_data_view\")"
   ]
  },
  {
   "cell_type": "code",
   "execution_count": null,
   "id": "e5fabad8",
   "metadata": {},
   "outputs": [],
   "source": [
    "songplays_table = spark.sql('''\n",
    "        SELECT DISTINCT\n",
    "            monotonically_increasing_id() as songplay_id,\n",
    "            ts.start_time,\n",
    "            l.userId AS user_id,\n",
    "            l.level AS level,\n",
    "            s.song_id AS song_id,\n",
    "            s.artist_id AS artist_id,\n",
    "            l.sessionId  AS session_id,\n",
    "            l.location AS location,\n",
    "            l.userAgent AS user_agent\n",
    "        FROM log_data_view AS l\n",
    "        JOIN song_data_view AS s ON s.title=l.song AND s.artist_name=l.artist \n",
    "        JOIN time_data_view AS t ON l.ts=t.ts\n",
    "        ''')"
   ]
  },
  {
   "cell_type": "code",
   "execution_count": null,
   "id": "3ba00ce4",
   "metadata": {},
   "outputs": [],
   "source": []
  }
 ],
 "metadata": {
  "kernelspec": {
   "display_name": "PySpark",
   "language": "",
   "name": "pysparkkernel"
  },
  "language_info": {
   "codemirror_mode": {
    "name": "python",
    "version": 2
   },
   "mimetype": "text/x-python",
   "name": "pyspark",
   "pygments_lexer": "python2"
  }
 },
 "nbformat": 4,
 "nbformat_minor": 5
}
